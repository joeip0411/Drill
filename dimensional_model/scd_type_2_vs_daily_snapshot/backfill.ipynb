{
 "cells": [
  {
   "cell_type": "code",
   "execution_count": 68,
   "metadata": {},
   "outputs": [],
   "source": [
    "import subprocess\n",
    "import re\n",
    "from datetime import datetime, timedelta\n",
    "import pandas as pd\n",
    "\n",
    "start_date_str = '2020-01-01'\n",
    "end_date_str = '2020-02-01'\n",
    "\n",
    "start_date = datetime.strptime(start_date_str, '%Y-%m-%d')\n",
    "end_date = datetime.strptime(end_date_str, '%Y-%m-%d')\n",
    "\n",
    "date_list = []\n",
    "current_date = start_date\n",
    "while current_date <= end_date:\n",
    "    date_list.append(current_date.strftime('%Y-%m-%d'))\n",
    "    current_date += timedelta(days=1)\n"
   ]
  },
  {
   "cell_type": "code",
   "execution_count": 69,
   "metadata": {},
   "outputs": [],
   "source": [
    "def dbt_run(command:list[str], date_list:list[str]) -> pd.DataFrame:\n",
    "    rows = []\n",
    "\n",
    "    for i in range(len(date_list)-1):\n",
    "        result = subprocess.run(['dbt', \n",
    "                                'run', \n",
    "                                '--select', \n",
    "                                'dim_customer_daily_snapshot', \n",
    "                                '--vars', \n",
    "                                f'{{start_date: {date_list[i]}, end_date: {date_list[i+1]}}}'],\n",
    "                                shell=True, \n",
    "                                text=True,\n",
    "                                stdout=subprocess.PIPE, \n",
    "                                universal_newlines=True,\n",
    "                                cwd='./dim_model_scd_test')\n",
    "        \n",
    "        stats = re.search(r\"\\[\\x1b\\[32mSUCCESS (\\d+)\\x1b\\[0m in (\\d+\\.\\d+)s\\]\", result.stdout)\n",
    "        row_count = int(stats[1])\n",
    "        seconds = float(stats[2])\n",
    "\n",
    "        rows.append({'start_date': date_list[i], 'end_date':date_list[i+1], 'row_count':row_count, 'seconds':seconds})"
   ]
  },
  {
   "cell_type": "code",
   "execution_count": 66,
   "metadata": {},
   "outputs": [],
   "source": [
    "# daily snapshot\n",
    "rows = []\n",
    "\n",
    "for i in range(len(date_list)-1):\n",
    "    result = subprocess.run(['dbt', \n",
    "                            'run', \n",
    "                            '--select', \n",
    "                            'dim_customer_daily_snapshot', \n",
    "                            '--vars', \n",
    "                            f'{{start_date: {date_list[i]}, end_date: {date_list[i+1]}}}'],\n",
    "                            shell=True, \n",
    "                            text=True,\n",
    "                            stdout=subprocess.PIPE, \n",
    "                            universal_newlines=True,\n",
    "                            cwd='./dim_model_scd_test')\n",
    "    \n",
    "    stats = re.search(r\"\\[\\x1b\\[32mSUCCESS (\\d+)\\x1b\\[0m in (\\d+\\.\\d+)s\\]\", result.stdout)\n",
    "    row_count = int(stats[1])\n",
    "    seconds = float(stats[2])\n",
    "\n",
    "    rows.append({'start_date': date_list[i], 'end_date':date_list[i+1], 'row_count':row_count, 'seconds':seconds})\n"
   ]
  },
  {
   "cell_type": "code",
   "execution_count": 67,
   "metadata": {},
   "outputs": [
    {
     "data": {
      "text/plain": [
       "[{'start_date': '2020-01-01',\n",
       "  'end_date': '2020-01-02',\n",
       "  'row_count': 1,\n",
       "  'seconds': 2.84},\n",
       " {'start_date': '2020-01-02',\n",
       "  'end_date': '2020-01-03',\n",
       "  'row_count': 556,\n",
       "  'seconds': 3.5},\n",
       " {'start_date': '2020-01-03',\n",
       "  'end_date': '2020-01-04',\n",
       "  'row_count': 839,\n",
       "  'seconds': 2.07}]"
      ]
     },
     "execution_count": 67,
     "metadata": {},
     "output_type": "execute_result"
    }
   ],
   "source": [
    "rows"
   ]
  }
 ],
 "metadata": {
  "kernelspec": {
   "display_name": ".venv",
   "language": "python",
   "name": "python3"
  },
  "language_info": {
   "codemirror_mode": {
    "name": "ipython",
    "version": 3
   },
   "file_extension": ".py",
   "mimetype": "text/x-python",
   "name": "python",
   "nbconvert_exporter": "python",
   "pygments_lexer": "ipython3",
   "version": "3.11.7"
  }
 },
 "nbformat": 4,
 "nbformat_minor": 2
}
